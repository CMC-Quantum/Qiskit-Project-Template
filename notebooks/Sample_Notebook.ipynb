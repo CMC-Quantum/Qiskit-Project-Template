{
 "cells": [
  {
   "cell_type": "code",
   "execution_count": 1,
   "id": "93714ca6-3786-4f5c-9a40-2e2cce9fb495",
   "metadata": {},
   "outputs": [],
   "source": [
    "# Perform relevant imports.\n",
    "import numpy as np\n",
    "from qiskit.circuit import QuantumCircuit\n",
    "from qiskit.transpiler.preset_passmanagers import generate_preset_pass_manager\n",
    "from qiskit_ibm_runtime import EstimatorV2 as Estimator"
   ]
  },
  {
   "cell_type": "markdown",
   "id": "68cb5ebd-7275-4aa7-9cf9-ae0b88f7a302",
   "metadata": {},
   "source": [
    "### Mapping the problem to quantum native format"
   ]
  },
  {
   "cell_type": "code",
   "execution_count": 2,
   "id": "dfee21da-fef3-4c63-b787-7feb466e0bfd",
   "metadata": {},
   "outputs": [
    {
     "data": {
      "image/png": "[encoded data removed]",
      "text/plain": [
       "<Figure size 287.294x284.278 with 1 Axes>"
      ]
     },
     "execution_count": 2,
     "metadata": {},
     "output_type": "execute_result"
    }
   ],
   "source": [
    "# Building a quantum circuit (Bell State)\n",
    "qc = QuantumCircuit(2, 2)\n",
    "qc.h(0)\n",
    "qc.cx(0, 1)\n",
    "qc.draw(\"mpl\")"
   ]
  },
  {
   "cell_type": "code",
   "execution_count": 3,
   "id": "fa46d9f6-4d7d-44cf-b745-87bacdea7cf7",
   "metadata": {},
   "outputs": [],
   "source": [
    "# Setting up circuit observables\n",
    "from qiskit.quantum_info import SparsePauliOp\n",
    "\n",
    "observable_labels = [\"ZZ\", \"IZ\"]\n",
    "observable = [SparsePauliOp(label) for label in observable_labels]"
   ]
  },
  {
   "cell_type": "markdown",
   "id": "09dce5d6-eb42-46cb-babf-682a2f17d6c0",
   "metadata": {},
   "source": [
    "### Optimize circuits and operators"
   ]
  },
  {
   "cell_type": "code",
   "execution_count": 4,
   "id": "c6ac03b6-ece0-4f22-bf41-17fcd2e0200b",
   "metadata": {},
   "outputs": [],
   "source": [
    "# Setup Qiskit Runtime\n",
    "from qiskit_ibm_runtime import QiskitRuntimeService\n",
    "\n",
    "# If setting up Qiskit Runtime for the first time with custom hub/group/instance\n",
    "# QiskitRuntimeService.save_account(channel=\"ibm_quantum\", token=\"token\", instance=\"hub/group/project\", name=\"CustomName\")\n",
    "# service = QiskitRuntimeService(instance=\"hub/group/project\")\n",
    "\n",
    "service = QiskitRuntimeService(instance=\"ibm-q/open/main\")\n",
    "backend = service.least_busy(simulator=False, operational=True)"
   ]
  },
  {
   "cell_type": "code",
   "execution_count": 5,
   "id": "6de86d34-7845-4047-a57b-15fdeb7c0a70",
   "metadata": {},
   "outputs": [
    {
     "data": {
      "image/png": "[encoded data removed]",
      "text/plain": [
       "<Figure size 757.83x200.667 with 1 Axes>"
      ]
     },
     "execution_count": 5,
     "metadata": {},
     "output_type": "execute_result"
    }
   ],
   "source": [
    "# Build an Instruction Set Architecture (ISA) circuit for transpilation purposes\n",
    "pm = generate_preset_pass_manager(backend=backend, optimization_level=1)    # Accordingly, you can change the optimization level\n",
    "isa_circuit = pm.run(qc)\n",
    "isa_circuit.draw(\"mpl\", idle_wires=False)"
   ]
  },
  {
   "cell_type": "markdown",
   "id": "91cee60c-43ae-4af9-ac6e-d587ec314970",
   "metadata": {},
   "source": [
    "### Execute circuit with Primitives"
   ]
  },
  {
   "cell_type": "code",
   "execution_count": 6,
   "id": "6eae46b0-9d4b-49a4-8028-89db7ee8c00e",
   "metadata": {},
   "outputs": [
    {
     "data": {
      "text/plain": [
       "[SparsePauliOp(['IIIIIIIIIIIIIIIIIIIIIIIIIIIIIIIIIIIIIIIIIIIIIIIIIIIIIIIIIIIIIIIIIIIIIIIIIIIIIIIIIIIIIIIIIIIIIIIIIIIIIIIIIIIIIIIIIIIIIIIIIIIIIZZ'],\n",
       "               coeffs=[1.+0.j]),\n",
       " SparsePauliOp(['IIIIIIIIIIIIIIIIIIIIIIIIIIIIIIIIIIIIIIIIIIIIIIIIIIIIIIIIIIIIIIIIIIIIIIIIIIIIIIIIIIIIIIIIIIIIIIIIIIIIIIIIIIIIIIIIIIIIIIIIIIIIIIZ'],\n",
       "               coeffs=[1.+0.j])]"
      ]
     },
     "execution_count": 6,
     "metadata": {},
     "output_type": "execute_result"
    }
   ],
   "source": [
    "# Apply obervables to the ISA layout\n",
    "mapped_observables = [obs.apply_layout(isa_circuit.layout) for obs in observable]\n",
    "mapped_observables"
   ]
  },
  {
   "cell_type": "code",
   "execution_count": 7,
   "id": "35c7c3a8-de6a-4dd1-a5b5-c0d19bf07e9c",
   "metadata": {},
   "outputs": [
    {
     "name": "stdout",
     "output_type": "stream",
     "text": [
      "Job ID: cznzph2kzhn0008bm4n0\n"
     ]
    }
   ],
   "source": [
    "# Build Estmator/Sampler instance\n",
    "# Depending on the number of jobs you are planning to run, utilize the Batch or Session mode.\n",
    "# Since we are running a single job, these modes are not required.\n",
    "estimator = Estimator(mode=backend)\n",
    "estimator.options.resilience_level = 1\n",
    "estimator.options.default_shots = 100\n",
    "\n",
    "# Run the Estimator\n",
    "job = estimator.run([(isa_circuit, mapped_observables)])\n",
    "print(f\"Job ID: {job.job_id()}\")"
   ]
  },
  {
   "cell_type": "code",
   "execution_count": 8,
   "id": "ce04f744-22d5-41db-891c-3f8649e354e1",
   "metadata": {},
   "outputs": [
    {
     "data": {
      "text/plain": [
       "PrimitiveResult([PubResult(data=DataBin(evs=np.ndarray(<shape=(2,), dtype=float64>), stds=np.ndarray(<shape=(2,), dtype=float64>), ensemble_standard_error=np.ndarray(<shape=(2,), dtype=float64>), shape=(2,)), metadata={'shots': 128, 'target_precision': 0.1, 'circuit_metadata': {}, 'resilience': {}, 'num_randomizations': 2})], metadata={'dynamical_decoupling': {'enable': False, 'sequence_type': 'XX', 'extra_slack_distribution': 'middle', 'scheduling_method': 'alap'}, 'twirling': {'enable_gates': False, 'enable_measure': True, 'num_randomizations': 'auto', 'shots_per_randomization': 'auto', 'interleave_randomizations': True, 'strategy': 'active-accum'}, 'resilience': {'measure_mitigation': True, 'zne_mitigation': False, 'pec_mitigation': False}, 'version': 2})"
      ]
     },
     "execution_count": 8,
     "metadata": {},
     "output_type": "execute_result"
    }
   ],
   "source": [
    "# Retrieve results\n",
    "result = job.result()\n",
    "result"
   ]
  },
  {
   "cell_type": "markdown",
   "id": "65dcb061-3fbc-4e6b-82ab-cc8b8c5f0afb",
   "metadata": {},
   "source": [
    "### Analyze the results"
   ]
  },
  {
   "cell_type": "code",
   "execution_count": 9,
   "id": "7df613df-7590-44a4-8f1e-bbd528c49ed9",
   "metadata": {},
   "outputs": [],
   "source": [
    "# According to your problem, analyze or post-process your results."
   ]
  }
 ],
 "metadata": {
  "kernelspec": {
   "display_name": "Python 3 (ipykernel)",
   "language": "python",
   "name": "python3"
  },
  "language_info": {
   "codemirror_mode": {
    "name": "ipython",
    "version": 3
   },
   "file_extension": ".py",
   "mimetype": "text/x-python",
   "name": "python",
   "nbconvert_exporter": "python",
   "pygments_lexer": "ipython3",
   "version": "3.9.19"
  }
 },
 "nbformat": 4,
 "nbformat_minor": 5
}
